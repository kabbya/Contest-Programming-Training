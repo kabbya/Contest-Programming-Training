{
  "cells": [
    {
      "cell_type": "markdown",
      "metadata": {
        "id": "7BU4IMAKKDsr"
      },
      "source": [
        "\n",
        "\n",
        "---\n",
        "\n",
        "\n",
        "Prime Factorization of a number in $O(n)$\n",
        "\n",
        "---\n",
        "\n"
      ]
    },
    {
      "cell_type": "code",
      "execution_count": null,
      "metadata": {
        "id": "h1B6ub0mJ2Ca"
      },
      "outputs": [],
      "source": [
        "###### Code block 1 ######\n",
        "\n",
        "def prime_factorization(num):\n",
        "    factors = {}\n",
        "    for i in range(2, num+1):\n",
        "        while num % i == 0:\n",
        "            if i not in factors:\n",
        "                factors[i] = 1\n",
        "            else:\n",
        "                factors[i] += 1\n",
        "            num //= i\n",
        "    return factors"
      ]
    },
    {
      "cell_type": "markdown",
      "metadata": {
        "id": "Y1_RKm7oKVWo"
      },
      "source": [
        "---\n",
        "\n",
        "Prime Factorization of a number in $O( \\sqrt n)$\n",
        "\n",
        "---\n",
        "\n"
      ]
    },
    {
      "cell_type": "code",
      "execution_count": null,
      "metadata": {
        "id": "Hac7wlccLjWd"
      },
      "outputs": [],
      "source": [
        "###### Code block 2 ######\n",
        "       \n",
        "def prime_factorization(num):\n",
        "    factors = {}\n",
        "    i = 2\n",
        "    while i*i <= num:\n",
        "        while num % i == 0:\n",
        "            factors[i] = factors.get(i, 0) + 1\n",
        "             # type help(dict.get) if you want to know about factors.get\n",
        "            num //= i\n",
        "        i += 1\n",
        "    if num > 1:\n",
        "        factors[num] = factors.get(num, 0) + 1\n",
        "    return factors\n"
      ]
    },
    {
      "cell_type": "markdown",
      "metadata": {
        "id": "Lws0v8yER6hO"
      },
      "source": [
        "\n",
        "\n",
        "\n",
        "---\n",
        "\n",
        "Prime Factorization of a number in $O( \\log n)$ after finding the SPF (Smallest Prime Factor) likewise the seive $O( n \\log \\log n)$ \n",
        "\n",
        "**Problem Statement:**\n",
        "\n",
        "You will be given $Q$ $ (1 \\leq Q \\leq 10^6 )$ queries. In each query you will be given a number $N$ $ (1 \\leq N \\leq 10^{6} )$ , print the prime factorization of N. Time Limit: 1 second\n",
        "\n",
        "Time complexity: Sieve + Query * Find Prime factorization of a number\n",
        "\n",
        "$\\quad\\quad\\quad\\quad\\quad\\quad$ : $O ( N \\log  \\log  N + Q \\log N )$ \n",
        "\n",
        "Brainstorming: What would be the time complexity of your code if you want to use the ###### Code block 2 ###### to sovle this problem?\n",
        "\n",
        "\n",
        "\n",
        "\n",
        "\n",
        "---\n",
        "\n"
      ]
    },
    {
      "cell_type": "code",
      "execution_count": null,
      "metadata": {
        "id": "nzzPF_3JR9N8"
      },
      "outputs": [],
      "source": [
        "###### Code block 3 ######\n",
        "\n",
        "\n",
        "# Time complexity: 0(n log log n)\n",
        "def smallest_prime_factors(N):\n",
        "    import math\n",
        "    \n",
        "    spf = [0] * (N+1)\n",
        "    for i in range(1,N+1):\n",
        "      spf[i] = i\n",
        "\n",
        "    for i in range(2, math.isqrt(N)+1):\n",
        "        if spf[i] == i:\n",
        "            for j in range(i*i, N+1, i):\n",
        "                if spf[j] == j:\n",
        "                    spf[j] = i\n",
        "    return spf\n",
        "\n",
        "# Time complexity: 0(log n)\n",
        "def prime_factorization(num, spf):\n",
        "    factors = {}\n",
        "    while num != 1:\n",
        "        factor = spf[num]\n",
        "        factors[factor] = factors.get(factor, 0) + 1\n",
        "        num //= factor\n",
        "    return factors"
      ]
    },
    {
      "cell_type": "markdown",
      "metadata": {
        "id": "NQvcajfFZCzA"
      },
      "source": [
        "\n",
        "\n",
        "---\n",
        "\n",
        "\n",
        "Find out the total numbers of divisors from prime factorization.\n",
        "\n",
        "If $N = p_1^{k_1} \\cdot p_2^{k_2} \\cdot \\ldots \\cdot p_n^{k_n}$ is the prime factorization of $N$, then the total number of divisors of $N$ is given by $(k_1 + 1) \\cdot (k_2 + 1) \\cdot \\ldots \\cdot (k_n + 1)$.\n",
        "\n",
        "\n",
        "---\n",
        "\n"
      ]
    },
    {
      "cell_type": "code",
      "execution_count": null,
      "metadata": {
        "id": "FAmvMDVNZ9wV"
      },
      "outputs": [],
      "source": [
        "###### Code block 4 ######\n",
        "\n",
        "# Time complexity: O ( finding the time complexity of prime_factorization )\n",
        "def count_divisors(num):\n",
        "    factors = prime_factorization(num)\n",
        "    total_divisors = 1\n",
        "    for factor in factors.values():\n",
        "        total_divisors *= (factor + 1)\n",
        "    return total_divisors"
      ]
    },
    {
      "cell_type": "markdown",
      "metadata": {
        "id": "P0W3TeurbAxg"
      },
      "source": [
        "\n",
        "\n",
        "---\n",
        "\n",
        "\n",
        "Try it yourself:\n",
        "\n",
        "You are given two integers A and B. Find the Greatest Common Divisor (GCD) and Least Common Multiple (LCM) using the prime factorization.\n",
        "\n",
        " \n",
        "\n",
        "\n",
        "---\n",
        "\n"
      ]
    }
  ],
  "metadata": {
    "colab": {
      "provenance": []
    },
    "kernelspec": {
      "display_name": "Python 3",
      "name": "python3"
    },
    "language_info": {
      "name": "python"
    }
  },
  "nbformat": 4,
  "nbformat_minor": 0
}
