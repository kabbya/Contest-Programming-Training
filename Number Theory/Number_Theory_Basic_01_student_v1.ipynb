{
  "nbformat": 4,
  "nbformat_minor": 0,
  "metadata": {
    "colab": {
      "provenance": []
    },
    "kernelspec": {
      "name": "python3",
      "display_name": "Python 3"
    },
    "language_info": {
      "name": "python"
    }
  },
  "cells": [
    {
      "cell_type": "markdown",
      "source": [
        "**Reading materials:** https://progkriya.org/gyan/basic-number-theory\n",
        "\n",
        "---\n",
        "\n",
        "\n",
        "\n",
        "---\n",
        "\n"
      ],
      "metadata": {
        "id": "AN_jnQjGewgV"
      }
    },
    {
      "cell_type": "markdown",
      "source": [
        "**Problem: Find Divisors of a number**\n",
        "\n",
        "---\n",
        "\n"
      ],
      "metadata": {
        "id": "bSveL92CDA7-"
      }
    },
    {
      "cell_type": "markdown",
      "source": [
        "Finding divisors of a number in $O(n)$"
      ],
      "metadata": {
        "id": "nvTUWCfxJUFp"
      }
    },
    {
      "cell_type": "code",
      "execution_count": null,
      "metadata": {
        "id": "reGP9EVxEha7"
      },
      "outputs": [],
      "source": [
        "def find_divisors(n):\n",
        "    divisors = []\n",
        "    for i in range(1, n+1):\n",
        "        if n % i == 0:\n",
        "            divisors.append(i)\n",
        "    return divisors"
      ]
    },
    {
      "cell_type": "markdown",
      "source": [
        "Finding divisors of a number in $O( \\sqrt n )$"
      ],
      "metadata": {
        "id": "f27wEV_fJdsL"
      }
    },
    {
      "cell_type": "code",
      "source": [
        "def find_divisors(n):\n",
        "    divisors = []\n",
        "    i = 1\n",
        "    while i*i <= n:\n",
        "        if n % i == 0:\n",
        "            divisors.append(i)\n",
        "            if i != n//i:\n",
        "                divisors.append(n//i)\n",
        "        i += 1\n",
        "    return divisors"
      ],
      "metadata": {
        "id": "6c5wZCFLGtz9"
      },
      "execution_count": null,
      "outputs": []
    },
    {
      "cell_type": "markdown",
      "source": [
        "**Problem: From 1 to N - Find  the numbers with odd numbers of Divisors**\n",
        "\n",
        "---\n",
        "\n"
      ],
      "metadata": {
        "id": "AkZNBDNnDIXE"
      }
    },
    {
      "cell_type": "markdown",
      "source": [
        "Finding perfect square numbers from 1 to N in $O( n \\sqrt n )$"
      ],
      "metadata": {
        "id": "XUT3A4skZBDB"
      }
    },
    {
      "cell_type": "code",
      "source": [
        "def count_divisors(n):\n",
        "    divisors = []\n",
        "    i = 1\n",
        "    cnt = 0\n",
        "    while i*i <= n:\n",
        "        if n % i == 0:\n",
        "            cnt+=1\n",
        "            if i != n//i:\n",
        "               cnt+=1\n",
        "        i += 1\n",
        "    return cnt\n",
        "\n",
        "def find_perfect_squares(N):\n",
        "  squares = []\n",
        "  for i in range(N+1):\n",
        "    if count_divisors(i)%2==1:\n",
        "       squares.append(i)\n",
        "  return squares\n",
        "\n"
      ],
      "metadata": {
        "id": "ncjHtKy45pae"
      },
      "execution_count": null,
      "outputs": []
    },
    {
      "cell_type": "markdown",
      "source": [
        "Finding perfect square numbers from 1 to N in $O( n  \\log{\\log{n}} )$"
      ],
      "metadata": {
        "id": "Hy5a2eDIDdhf"
      }
    },
    {
      "cell_type": "code",
      "source": [
        "import math\n",
        "\n",
        "def find_square_numbers(n):\n",
        "    squares = []\n",
        "    for i in range(1, n+1):\n",
        "        if math.isqrt(i)**2 == i:\n",
        "            squares.append(i)\n",
        "    return squares"
      ],
      "metadata": {
        "id": "J9g53TGnDczi"
      },
      "execution_count": null,
      "outputs": []
    },
    {
      "cell_type": "markdown",
      "source": [
        "Finding perfect square numbers from 1 to N in $O( \\sqrt n )$"
      ],
      "metadata": {
        "id": "cnSLODnM5shD"
      }
    },
    {
      "cell_type": "code",
      "source": [
        "def find_perfect_squares(N):\n",
        "    n = math.isqrt(N)\n",
        "    return [i*i for i in range(1, n+1)]"
      ],
      "metadata": {
        "id": "lm_1wHVhIEmr"
      },
      "execution_count": null,
      "outputs": []
    },
    {
      "cell_type": "code",
      "source": [
        "def find_perfect_squares(N):\n",
        "    squares = []\n",
        "    i = 1\n",
        "    while i*i <= N:\n",
        "        squares.append(i*i)\n",
        "        i += 1\n",
        "    return squares"
      ],
      "metadata": {
        "id": "oIrSC3uyeejs"
      },
      "execution_count": null,
      "outputs": []
    },
    {
      "cell_type": "markdown",
      "source": [
        "**Problem: Check Prime**\n",
        "\n",
        "---\n",
        "\n"
      ],
      "metadata": {
        "id": "lr9ZBh3eBWBU"
      }
    },
    {
      "cell_type": "markdown",
      "source": [
        "Check if a number is prime or not in $O(n)$\n"
      ],
      "metadata": {
        "id": "9gq7cxduog65"
      }
    },
    {
      "cell_type": "code",
      "source": [
        "def is_prime(n):\n",
        "    if n <= 1:\n",
        "        return False\n",
        "    for i in range(2, n):\n",
        "        if n % i == 0:\n",
        "            return False\n",
        "    return True\n"
      ],
      "metadata": {
        "id": "GeFw5kTMCsZ4"
      },
      "execution_count": null,
      "outputs": []
    },
    {
      "cell_type": "markdown",
      "source": [
        "Check if a number is prime or not in $O( \\sqrt n )$\n"
      ],
      "metadata": {
        "id": "AFXj__o1CsMQ"
      }
    },
    {
      "cell_type": "code",
      "source": [
        "def is_prime(number):\n",
        "    if number <= 1:\n",
        "        return False\n",
        "    i = 2\n",
        "    while i*i <= number:\n",
        "        if number % i == 0:\n",
        "            return False\n",
        "        i += 1\n",
        "    return True\n"
      ],
      "metadata": {
        "id": "OhRBKoYBWKmh"
      },
      "execution_count": null,
      "outputs": []
    },
    {
      "cell_type": "markdown",
      "source": [
        "**Problem: Find Prime numbers between 1 to N**\n",
        "\n",
        "---\n",
        "\n"
      ],
      "metadata": {
        "id": "teqAddVtuh1T"
      }
    },
    {
      "cell_type": "markdown",
      "source": [
        "Sieve of Eratosthenes: $O(N \\log \\log N)$"
      ],
      "metadata": {
        "id": "GbX1TIPnBFAc"
      }
    },
    {
      "cell_type": "code",
      "source": [
        "def sieve(n):\n",
        "    vis = [True] * (n+1)\n",
        "    vis[0] = vis[1] = False\n",
        "    \n",
        "    i = 2\n",
        "    while i*i<=n: #for i in range(2, int(n**0.5)+1):\n",
        "        if vis[i]:\n",
        "            for j in range(i*i, n+1, i):\n",
        "                vis[j] = False\n",
        "        i+=1\n",
        "\n",
        "    primes = [i for i in range(2, n+1) if vis[i]]\n",
        "    return primes"
      ],
      "metadata": {
        "id": "C1o3eu7HBFRq"
      },
      "execution_count": null,
      "outputs": []
    }
  ]
}